{
 "cells": [
  {
   "cell_type": "markdown",
   "id": "01f857bc",
   "metadata": {},
   "source": [
    "### Importing Libraries"
   ]
  },
  {
   "cell_type": "code",
   "execution_count": 2,
   "id": "6544d496",
   "metadata": {},
   "outputs": [],
   "source": [
    "import numpy as np\n",
    "import pandas as pd\n",
    "import matplotlib.pyplot as plt\n",
    "import seaborn as sns\n",
    "from sklearn.impute import SimpleImputer\n",
    "from sklearn.preprocessing import OneHotEncoder, MinMaxScaler\n",
    "from sklearn.compose import ColumnTransformer\n",
    "from sklearn.model_selection import train_test_split\n",
    "from sklearn.neighbors import KNeighborsClassifier\n",
    "from sklearn.pipeline import Pipeline\n"
   ]
  },
  {
   "cell_type": "code",
   "execution_count": 4,
   "id": "31524dd8",
   "metadata": {},
   "outputs": [],
   "source": [
    "from sklearn.linear_model import LogisticRegression\n",
    "from sklearn.tree import DecisionTreeClassifier\n",
    "from sklearn.ensemble import RandomForestClassifier\n",
    "import warnings\n",
    "warnings.filterwarnings('ignore')"
   ]
  },
  {
   "cell_type": "markdown",
   "id": "7aafc809",
   "metadata": {},
   "source": [
    "### Importing data and preprocessing"
   ]
  },
  {
   "cell_type": "code",
   "execution_count": 5,
   "id": "ca0d6bd1",
   "metadata": {},
   "outputs": [],
   "source": [
    "data = pd.read_csv('cancerdata.csv')\n",
    "\n",
    "#creating a copy of the data\n",
    "df = data.copy()"
   ]
  },
  {
   "cell_type": "code",
   "execution_count": 6,
   "id": "aaca6a85",
   "metadata": {
    "scrolled": false
   },
   "outputs": [
    {
     "data": {
      "text/html": [
       "<div>\n",
       "<style scoped>\n",
       "    .dataframe tbody tr th:only-of-type {\n",
       "        vertical-align: middle;\n",
       "    }\n",
       "\n",
       "    .dataframe tbody tr th {\n",
       "        vertical-align: top;\n",
       "    }\n",
       "\n",
       "    .dataframe thead th {\n",
       "        text-align: right;\n",
       "    }\n",
       "</style>\n",
       "<table border=\"1\" class=\"dataframe\">\n",
       "  <thead>\n",
       "    <tr style=\"text-align: right;\">\n",
       "      <th></th>\n",
       "      <th>id</th>\n",
       "      <th>diagnosis</th>\n",
       "      <th>Sex</th>\n",
       "      <th>radius_mean</th>\n",
       "      <th>texture_mean</th>\n",
       "      <th>perimeter_mean</th>\n",
       "      <th>area_mean</th>\n",
       "      <th>smoothness_mean</th>\n",
       "      <th>compactness_mean</th>\n",
       "      <th>concavity_mean</th>\n",
       "      <th>...</th>\n",
       "      <th>radius_worst</th>\n",
       "      <th>texture_worst</th>\n",
       "      <th>perimeter_worst</th>\n",
       "      <th>area_worst</th>\n",
       "      <th>smoothness_worst</th>\n",
       "      <th>compactness_worst</th>\n",
       "      <th>concavity_worst</th>\n",
       "      <th>points_worst</th>\n",
       "      <th>symmetry_worst</th>\n",
       "      <th>dimension_worst</th>\n",
       "    </tr>\n",
       "  </thead>\n",
       "  <tbody>\n",
       "    <tr>\n",
       "      <th>0</th>\n",
       "      <td>87139402</td>\n",
       "      <td>B</td>\n",
       "      <td>F</td>\n",
       "      <td>12.32</td>\n",
       "      <td>12.39</td>\n",
       "      <td>78.85</td>\n",
       "      <td>464.1</td>\n",
       "      <td>0.10280</td>\n",
       "      <td>0.06981</td>\n",
       "      <td>0.03987</td>\n",
       "      <td>...</td>\n",
       "      <td>13.50</td>\n",
       "      <td>15.64</td>\n",
       "      <td>86.97</td>\n",
       "      <td>549.1</td>\n",
       "      <td>0.1385</td>\n",
       "      <td>0.1266</td>\n",
       "      <td>0.12420</td>\n",
       "      <td>0.09391</td>\n",
       "      <td>0.2827</td>\n",
       "      <td>0.06771</td>\n",
       "    </tr>\n",
       "    <tr>\n",
       "      <th>1</th>\n",
       "      <td>8910251</td>\n",
       "      <td>B</td>\n",
       "      <td>M</td>\n",
       "      <td>10.60</td>\n",
       "      <td>18.95</td>\n",
       "      <td>69.28</td>\n",
       "      <td>346.4</td>\n",
       "      <td>0.09688</td>\n",
       "      <td>0.11470</td>\n",
       "      <td>0.06387</td>\n",
       "      <td>...</td>\n",
       "      <td>11.88</td>\n",
       "      <td>22.94</td>\n",
       "      <td>78.28</td>\n",
       "      <td>424.8</td>\n",
       "      <td>0.1213</td>\n",
       "      <td>0.2515</td>\n",
       "      <td>0.19160</td>\n",
       "      <td>0.07926</td>\n",
       "      <td>0.2940</td>\n",
       "      <td>0.07587</td>\n",
       "    </tr>\n",
       "    <tr>\n",
       "      <th>2</th>\n",
       "      <td>905520</td>\n",
       "      <td>B</td>\n",
       "      <td>M</td>\n",
       "      <td>11.04</td>\n",
       "      <td>16.83</td>\n",
       "      <td>70.92</td>\n",
       "      <td>373.2</td>\n",
       "      <td>0.10770</td>\n",
       "      <td>0.07804</td>\n",
       "      <td>0.03046</td>\n",
       "      <td>...</td>\n",
       "      <td>12.41</td>\n",
       "      <td>26.44</td>\n",
       "      <td>79.93</td>\n",
       "      <td>471.4</td>\n",
       "      <td>0.1369</td>\n",
       "      <td>0.1482</td>\n",
       "      <td>0.10670</td>\n",
       "      <td>0.07431</td>\n",
       "      <td>0.2998</td>\n",
       "      <td>0.07881</td>\n",
       "    </tr>\n",
       "    <tr>\n",
       "      <th>3</th>\n",
       "      <td>868871</td>\n",
       "      <td>B</td>\n",
       "      <td>F</td>\n",
       "      <td>11.28</td>\n",
       "      <td>13.39</td>\n",
       "      <td>73.00</td>\n",
       "      <td>384.8</td>\n",
       "      <td>0.11640</td>\n",
       "      <td>0.11360</td>\n",
       "      <td>0.04635</td>\n",
       "      <td>...</td>\n",
       "      <td>11.92</td>\n",
       "      <td>15.77</td>\n",
       "      <td>76.53</td>\n",
       "      <td>434.0</td>\n",
       "      <td>0.1367</td>\n",
       "      <td>0.1822</td>\n",
       "      <td>0.08669</td>\n",
       "      <td>0.08611</td>\n",
       "      <td>0.2102</td>\n",
       "      <td>0.06784</td>\n",
       "    </tr>\n",
       "    <tr>\n",
       "      <th>4</th>\n",
       "      <td>9012568</td>\n",
       "      <td>B</td>\n",
       "      <td>F</td>\n",
       "      <td>15.19</td>\n",
       "      <td>13.21</td>\n",
       "      <td>97.65</td>\n",
       "      <td>711.8</td>\n",
       "      <td>0.07963</td>\n",
       "      <td>0.06934</td>\n",
       "      <td>0.03393</td>\n",
       "      <td>...</td>\n",
       "      <td>16.20</td>\n",
       "      <td>15.73</td>\n",
       "      <td>104.50</td>\n",
       "      <td>819.1</td>\n",
       "      <td>0.1126</td>\n",
       "      <td>0.1737</td>\n",
       "      <td>0.13620</td>\n",
       "      <td>0.08178</td>\n",
       "      <td>0.2487</td>\n",
       "      <td>0.06766</td>\n",
       "    </tr>\n",
       "  </tbody>\n",
       "</table>\n",
       "<p>5 rows × 33 columns</p>\n",
       "</div>"
      ],
      "text/plain": [
       "         id diagnosis Sex  radius_mean  texture_mean  perimeter_mean  \\\n",
       "0  87139402         B   F        12.32         12.39           78.85   \n",
       "1   8910251         B  M         10.60         18.95           69.28   \n",
       "2    905520         B  M         11.04         16.83           70.92   \n",
       "3    868871         B   F        11.28         13.39           73.00   \n",
       "4   9012568         B   F        15.19         13.21           97.65   \n",
       "\n",
       "   area_mean  smoothness_mean  compactness_mean  concavity_mean  ...  \\\n",
       "0      464.1          0.10280           0.06981         0.03987  ...   \n",
       "1      346.4          0.09688           0.11470         0.06387  ...   \n",
       "2      373.2          0.10770           0.07804         0.03046  ...   \n",
       "3      384.8          0.11640           0.11360         0.04635  ...   \n",
       "4      711.8          0.07963           0.06934         0.03393  ...   \n",
       "\n",
       "   radius_worst  texture_worst  perimeter_worst  area_worst  smoothness_worst  \\\n",
       "0         13.50          15.64            86.97       549.1            0.1385   \n",
       "1         11.88          22.94            78.28       424.8            0.1213   \n",
       "2         12.41          26.44            79.93       471.4            0.1369   \n",
       "3         11.92          15.77            76.53       434.0            0.1367   \n",
       "4         16.20          15.73           104.50       819.1            0.1126   \n",
       "\n",
       "   compactness_worst  concavity_worst  points_worst  symmetry_worst  \\\n",
       "0             0.1266          0.12420       0.09391          0.2827   \n",
       "1             0.2515          0.19160       0.07926          0.2940   \n",
       "2             0.1482          0.10670       0.07431          0.2998   \n",
       "3             0.1822          0.08669       0.08611          0.2102   \n",
       "4             0.1737          0.13620       0.08178          0.2487   \n",
       "\n",
       "   dimension_worst  \n",
       "0          0.06771  \n",
       "1          0.07587  \n",
       "2          0.07881  \n",
       "3          0.06784  \n",
       "4          0.06766  \n",
       "\n",
       "[5 rows x 33 columns]"
      ]
     },
     "execution_count": 6,
     "metadata": {},
     "output_type": "execute_result"
    }
   ],
   "source": [
    "df.head()"
   ]
  },
  {
   "cell_type": "markdown",
   "id": "e0745a6f",
   "metadata": {},
   "source": [
    "Ten real-valued features are computed for each cell nucleus:\n",
    "\n",
    "a) radius (mean of distances from center to points on the perimeter)\n",
    "\n",
    "b) texture (standard deviation of gray-scale values)\n",
    "\n",
    "c) perimeter\n",
    "\n",
    "d) area\n",
    "\n",
    "e) smoothness (local variation in radius lengths)\n",
    "\n",
    "f) compactness (perimeter^2 / area - 1.0)\n",
    "\n",
    "g) concavity (severity of concave portions of the contour)\n",
    "\n",
    "h) concave points (number of concave portions of the contour)\n",
    "\n",
    "i) symmetry\n",
    "\n",
    "j) fractal dimension (\"coastline approximation\" - 1)"
   ]
  },
  {
   "cell_type": "code",
   "execution_count": 29,
   "id": "31f39143",
   "metadata": {},
   "outputs": [],
   "source": [
    "#storing the above 9 features in a separate list\n",
    "feature_list = ['radius_mean','texture_mean','perimeter_mean','area_mean','smoothness_mean','compactness_mean','concavity_mean',\n",
    "               'points_mean','symmetry_mean','dimension_mean']"
   ]
  },
  {
   "cell_type": "code",
   "execution_count": 38,
   "id": "2eaa0df3",
   "metadata": {
    "scrolled": true
   },
   "outputs": [
    {
     "data": {
      "image/png": "[encoded data removed]",
      "text/plain": [
       "<Figure size 1440x864 with 10 Axes>"
      ]
     },
     "metadata": {
      "needs_background": "light"
     },
     "output_type": "display_data"
    }
   ],
   "source": [
    "#plotting the distribution of these 10 columns\n",
    "plt.rcParams['figure.figsize']=(20,12)\n",
    "fig,ax = plt.subplots(nrows = 4, ncols = 3)\n",
    "plt.suptitle('Distribution of certain numerical features',size = 20)\n",
    "for col, axes in zip(feature_list, ax.flat[:len(feature_list)]):\n",
    "    sns.distplot(x = df[col],ax = axes,axlabel = col)\n",
    "\n",
    "for ax in [ax[3,1],ax[3,2]]:\n",
    "    fig.delaxes(ax)"
   ]
  },
  {
   "cell_type": "code",
   "execution_count": 7,
   "id": "502f13e3",
   "metadata": {
    "scrolled": true
   },
   "outputs": [
    {
     "name": "stdout",
     "output_type": "stream",
     "text": [
      "<class 'pandas.core.frame.DataFrame'>\n",
      "RangeIndex: 569 entries, 0 to 568\n",
      "Data columns (total 33 columns):\n",
      " #   Column             Non-Null Count  Dtype  \n",
      "---  ------             --------------  -----  \n",
      " 0   id                 569 non-null    int64  \n",
      " 1   diagnosis          569 non-null    object \n",
      " 2   Sex                569 non-null    object \n",
      " 3   radius_mean        569 non-null    float64\n",
      " 4   texture_mean       569 non-null    float64\n",
      " 5   perimeter_mean     569 non-null    float64\n",
      " 6   area_mean          569 non-null    float64\n",
      " 7   smoothness_mean    569 non-null    float64\n",
      " 8   compactness_mean   569 non-null    float64\n",
      " 9   concavity_mean     567 non-null    float64\n",
      " 10  points_mean        568 non-null    float64\n",
      " 11  symmetry_mean      568 non-null    float64\n",
      " 12  dimension_mean     569 non-null    float64\n",
      " 13  radius_se          569 non-null    float64\n",
      " 14  texture_se         569 non-null    float64\n",
      " 15  perimeter_se       569 non-null    float64\n",
      " 16  area_se            569 non-null    float64\n",
      " 17  smoothness_se      569 non-null    float64\n",
      " 18  compactness_se     569 non-null    float64\n",
      " 19  concavity_se       569 non-null    float64\n",
      " 20  points_se          569 non-null    float64\n",
      " 21  symmetry_se        569 non-null    float64\n",
      " 22  dimension_se       569 non-null    float64\n",
      " 23  radius_worst       569 non-null    float64\n",
      " 24  texture_worst      569 non-null    float64\n",
      " 25  perimeter_worst    569 non-null    float64\n",
      " 26  area_worst         569 non-null    float64\n",
      " 27  smoothness_worst   569 non-null    float64\n",
      " 28  compactness_worst  569 non-null    float64\n",
      " 29  concavity_worst    569 non-null    float64\n",
      " 30  points_worst       569 non-null    float64\n",
      " 31  symmetry_worst     569 non-null    float64\n",
      " 32  dimension_worst    569 non-null    float64\n",
      "dtypes: float64(30), int64(1), object(2)\n",
      "memory usage: 146.8+ KB\n"
     ]
    }
   ],
   "source": [
    "df.info()"
   ]
  },
  {
   "cell_type": "code",
   "execution_count": null,
   "id": "d8146168",
   "metadata": {},
   "outputs": [],
   "source": [
    "df.describe().T"
   ]
  },
  {
   "cell_type": "code",
   "execution_count": 8,
   "id": "2d72c624",
   "metadata": {},
   "outputs": [],
   "source": [
    "#dropping the id column as it is of no use\n",
    "df.drop('id',axis = 1, inplace = True)"
   ]
  },
  {
   "cell_type": "code",
   "execution_count": 9,
   "id": "48ba446f",
   "metadata": {},
   "outputs": [],
   "source": [
    "#separating input and output variables\n",
    "X = df.drop('diagnosis',axis = 1)\n",
    "y = df.diagnosis"
   ]
  },
  {
   "cell_type": "code",
   "execution_count": 10,
   "id": "3cb9c9ef",
   "metadata": {},
   "outputs": [],
   "source": [
    "#separating numerical and categorical features\n",
    "num_features = X.select_dtypes(exclude = 'object').columns\n",
    "cat_features = X.select_dtypes(include = 'object').columns"
   ]
  },
  {
   "cell_type": "code",
   "execution_count": 11,
   "id": "e69d97f8",
   "metadata": {},
   "outputs": [
    {
     "data": {
      "text/plain": [
       "Sex                  0\n",
       "radius_mean          0\n",
       "texture_mean         0\n",
       "perimeter_mean       0\n",
       "area_mean            0\n",
       "smoothness_mean      0\n",
       "compactness_mean     0\n",
       "concavity_mean       2\n",
       "points_mean          1\n",
       "symmetry_mean        1\n",
       "dimension_mean       0\n",
       "radius_se            0\n",
       "texture_se           0\n",
       "perimeter_se         0\n",
       "area_se              0\n",
       "smoothness_se        0\n",
       "compactness_se       0\n",
       "concavity_se         0\n",
       "points_se            0\n",
       "symmetry_se          0\n",
       "dimension_se         0\n",
       "radius_worst         0\n",
       "texture_worst        0\n",
       "perimeter_worst      0\n",
       "area_worst           0\n",
       "smoothness_worst     0\n",
       "compactness_worst    0\n",
       "concavity_worst      0\n",
       "points_worst         0\n",
       "symmetry_worst       0\n",
       "dimension_worst      0\n",
       "dtype: int64"
      ]
     },
     "execution_count": 11,
     "metadata": {},
     "output_type": "execute_result"
    }
   ],
   "source": [
    "#checking for missing values\n",
    "X.isnull().sum()"
   ]
  },
  {
   "cell_type": "markdown",
   "id": "b7b11af6",
   "metadata": {},
   "source": [
    "3 columns have missing values all being numerical"
   ]
  },
  {
   "cell_type": "code",
   "execution_count": 12,
   "id": "97bb43d4",
   "metadata": {},
   "outputs": [],
   "source": [
    "# Imputation strategy for numeric columns\n",
    "num_pipeline = Pipeline([('impute', SimpleImputer(strategy = 'mean'))])\n",
    "\n",
    "cat_pipeline = Pipeline([('encoder', OneHotEncoder(drop = 'first'))]) #converting sex column into a binary variable"
   ]
  },
  {
   "cell_type": "code",
   "execution_count": 19,
   "id": "c7df5a12",
   "metadata": {},
   "outputs": [],
   "source": [
    "#Using ColumnTransformer to transform the columns of an array or Pandas DataFrame. \n",
    "#This estimator allows different columns or column subsets of the input to be transformed separately and \n",
    "#the features generated by each transformer will be concatenated to form a single feature space.\n",
    "preprocess = ColumnTransformer([('categorical',cat_pipeline,cat_features),\n",
    "                               ('numerical',num_pipeline,num_features)])"
   ]
  },
  {
   "cell_type": "code",
   "execution_count": 20,
   "id": "77b26a4f",
   "metadata": {},
   "outputs": [],
   "source": [
    "#fit the pipeline on our input features\n",
    "processed = preprocess.fit(X)"
   ]
  },
  {
   "cell_type": "code",
   "execution_count": 21,
   "id": "9c2d465f",
   "metadata": {},
   "outputs": [
    {
     "name": "stdout",
     "output_type": "stream",
     "text": [
      "<class 'pandas.core.frame.DataFrame'>\n",
      "RangeIndex: 569 entries, 0 to 568\n",
      "Data columns (total 31 columns):\n",
      " #   Column             Non-Null Count  Dtype  \n",
      "---  ------             --------------  -----  \n",
      " 0   Sex                569 non-null    float64\n",
      " 1   radius_mean        569 non-null    float64\n",
      " 2   texture_mean       569 non-null    float64\n",
      " 3   perimeter_mean     569 non-null    float64\n",
      " 4   area_mean          569 non-null    float64\n",
      " 5   smoothness_mean    569 non-null    float64\n",
      " 6   compactness_mean   569 non-null    float64\n",
      " 7   concavity_mean     569 non-null    float64\n",
      " 8   points_mean        569 non-null    float64\n",
      " 9   symmetry_mean      569 non-null    float64\n",
      " 10  dimension_mean     569 non-null    float64\n",
      " 11  radius_se          569 non-null    float64\n",
      " 12  texture_se         569 non-null    float64\n",
      " 13  perimeter_se       569 non-null    float64\n",
      " 14  area_se            569 non-null    float64\n",
      " 15  smoothness_se      569 non-null    float64\n",
      " 16  compactness_se     569 non-null    float64\n",
      " 17  concavity_se       569 non-null    float64\n",
      " 18  points_se          569 non-null    float64\n",
      " 19  symmetry_se        569 non-null    float64\n",
      " 20  dimension_se       569 non-null    float64\n",
      " 21  radius_worst       569 non-null    float64\n",
      " 22  texture_worst      569 non-null    float64\n",
      " 23  perimeter_worst    569 non-null    float64\n",
      " 24  area_worst         569 non-null    float64\n",
      " 25  smoothness_worst   569 non-null    float64\n",
      " 26  compactness_worst  569 non-null    float64\n",
      " 27  concavity_worst    569 non-null    float64\n",
      " 28  points_worst       569 non-null    float64\n",
      " 29  symmetry_worst     569 non-null    float64\n",
      " 30  dimension_worst    569 non-null    float64\n",
      "dtypes: float64(31)\n",
      "memory usage: 137.9 KB\n"
     ]
    }
   ],
   "source": [
    "#transforming the original data using the above pipeline\n",
    "X_preprocessed = pd.DataFrame(processed.transform(X),columns = X.columns)\n",
    "X_preprocessed.info()"
   ]
  },
  {
   "cell_type": "code",
   "execution_count": 22,
   "id": "a87274fb",
   "metadata": {},
   "outputs": [],
   "source": [
    "# Define scaling pipeline\n",
    "scale_pipeline = Pipeline([('scale', MinMaxScaler())])\n",
    "\n",
    "preprocess_2 = ColumnTransformer([('scaling',scale_pipeline,X_preprocessed.columns)])\n",
    "\n",
    "#fitting the pipeline\n",
    "processed_2 = preprocess_2.fit(X_preprocessed)"
   ]
  },
  {
   "cell_type": "code",
   "execution_count": 23,
   "id": "bbf42d8b",
   "metadata": {},
   "outputs": [
    {
     "data": {
      "text/html": [
       "<div>\n",
       "<style scoped>\n",
       "    .dataframe tbody tr th:only-of-type {\n",
       "        vertical-align: middle;\n",
       "    }\n",
       "\n",
       "    .dataframe tbody tr th {\n",
       "        vertical-align: top;\n",
       "    }\n",
       "\n",
       "    .dataframe thead th {\n",
       "        text-align: right;\n",
       "    }\n",
       "</style>\n",
       "<table border=\"1\" class=\"dataframe\">\n",
       "  <thead>\n",
       "    <tr style=\"text-align: right;\">\n",
       "      <th></th>\n",
       "      <th>Sex</th>\n",
       "      <th>radius_mean</th>\n",
       "      <th>texture_mean</th>\n",
       "      <th>perimeter_mean</th>\n",
       "      <th>area_mean</th>\n",
       "      <th>smoothness_mean</th>\n",
       "      <th>compactness_mean</th>\n",
       "      <th>concavity_mean</th>\n",
       "      <th>points_mean</th>\n",
       "      <th>symmetry_mean</th>\n",
       "      <th>...</th>\n",
       "      <th>radius_worst</th>\n",
       "      <th>texture_worst</th>\n",
       "      <th>perimeter_worst</th>\n",
       "      <th>area_worst</th>\n",
       "      <th>smoothness_worst</th>\n",
       "      <th>compactness_worst</th>\n",
       "      <th>concavity_worst</th>\n",
       "      <th>points_worst</th>\n",
       "      <th>symmetry_worst</th>\n",
       "      <th>dimension_worst</th>\n",
       "    </tr>\n",
       "  </thead>\n",
       "  <tbody>\n",
       "    <tr>\n",
       "      <th>0</th>\n",
       "      <td>0.0</td>\n",
       "      <td>0.252686</td>\n",
       "      <td>0.090632</td>\n",
       "      <td>0.242278</td>\n",
       "      <td>0.135992</td>\n",
       "      <td>0.452920</td>\n",
       "      <td>0.154684</td>\n",
       "      <td>0.093416</td>\n",
       "      <td>0.183897</td>\n",
       "      <td>0.454040</td>\n",
       "      <td>...</td>\n",
       "      <td>0.198150</td>\n",
       "      <td>0.096482</td>\n",
       "      <td>0.182081</td>\n",
       "      <td>0.089437</td>\n",
       "      <td>0.444628</td>\n",
       "      <td>0.096351</td>\n",
       "      <td>0.099201</td>\n",
       "      <td>0.322715</td>\n",
       "      <td>0.248768</td>\n",
       "      <td>0.083104</td>\n",
       "    </tr>\n",
       "    <tr>\n",
       "      <th>1</th>\n",
       "      <td>1.0</td>\n",
       "      <td>0.171281</td>\n",
       "      <td>0.312479</td>\n",
       "      <td>0.176145</td>\n",
       "      <td>0.086066</td>\n",
       "      <td>0.399476</td>\n",
       "      <td>0.292375</td>\n",
       "      <td>0.149649</td>\n",
       "      <td>0.131312</td>\n",
       "      <td>0.435354</td>\n",
       "      <td>...</td>\n",
       "      <td>0.140519</td>\n",
       "      <td>0.291045</td>\n",
       "      <td>0.138802</td>\n",
       "      <td>0.058887</td>\n",
       "      <td>0.331044</td>\n",
       "      <td>0.217530</td>\n",
       "      <td>0.153035</td>\n",
       "      <td>0.272371</td>\n",
       "      <td>0.271043</td>\n",
       "      <td>0.136626</td>\n",
       "    </tr>\n",
       "    <tr>\n",
       "      <th>2</th>\n",
       "      <td>1.0</td>\n",
       "      <td>0.192106</td>\n",
       "      <td>0.240785</td>\n",
       "      <td>0.187478</td>\n",
       "      <td>0.097434</td>\n",
       "      <td>0.497156</td>\n",
       "      <td>0.179928</td>\n",
       "      <td>0.071368</td>\n",
       "      <td>0.123260</td>\n",
       "      <td>0.330303</td>\n",
       "      <td>...</td>\n",
       "      <td>0.159374</td>\n",
       "      <td>0.384328</td>\n",
       "      <td>0.147019</td>\n",
       "      <td>0.070340</td>\n",
       "      <td>0.434062</td>\n",
       "      <td>0.117307</td>\n",
       "      <td>0.085224</td>\n",
       "      <td>0.255361</td>\n",
       "      <td>0.282476</td>\n",
       "      <td>0.155910</td>\n",
       "    </tr>\n",
       "    <tr>\n",
       "      <th>3</th>\n",
       "      <td>0.0</td>\n",
       "      <td>0.203464</td>\n",
       "      <td>0.124450</td>\n",
       "      <td>0.201852</td>\n",
       "      <td>0.102354</td>\n",
       "      <td>0.575697</td>\n",
       "      <td>0.289001</td>\n",
       "      <td>0.108599</td>\n",
       "      <td>0.238370</td>\n",
       "      <td>0.359091</td>\n",
       "      <td>...</td>\n",
       "      <td>0.141942</td>\n",
       "      <td>0.099947</td>\n",
       "      <td>0.130086</td>\n",
       "      <td>0.061148</td>\n",
       "      <td>0.432741</td>\n",
       "      <td>0.150294</td>\n",
       "      <td>0.069241</td>\n",
       "      <td>0.295911</td>\n",
       "      <td>0.105855</td>\n",
       "      <td>0.083956</td>\n",
       "    </tr>\n",
       "    <tr>\n",
       "      <th>4</th>\n",
       "      <td>0.0</td>\n",
       "      <td>0.388518</td>\n",
       "      <td>0.118363</td>\n",
       "      <td>0.372193</td>\n",
       "      <td>0.241060</td>\n",
       "      <td>0.243748</td>\n",
       "      <td>0.153242</td>\n",
       "      <td>0.079499</td>\n",
       "      <td>0.132058</td>\n",
       "      <td>0.333838</td>\n",
       "      <td>...</td>\n",
       "      <td>0.294201</td>\n",
       "      <td>0.098881</td>\n",
       "      <td>0.269386</td>\n",
       "      <td>0.155795</td>\n",
       "      <td>0.273592</td>\n",
       "      <td>0.142048</td>\n",
       "      <td>0.108786</td>\n",
       "      <td>0.281031</td>\n",
       "      <td>0.181747</td>\n",
       "      <td>0.082776</td>\n",
       "    </tr>\n",
       "  </tbody>\n",
       "</table>\n",
       "<p>5 rows × 31 columns</p>\n",
       "</div>"
      ],
      "text/plain": [
       "   Sex  radius_mean  texture_mean  perimeter_mean  area_mean  smoothness_mean  \\\n",
       "0  0.0     0.252686      0.090632        0.242278   0.135992         0.452920   \n",
       "1  1.0     0.171281      0.312479        0.176145   0.086066         0.399476   \n",
       "2  1.0     0.192106      0.240785        0.187478   0.097434         0.497156   \n",
       "3  0.0     0.203464      0.124450        0.201852   0.102354         0.575697   \n",
       "4  0.0     0.388518      0.118363        0.372193   0.241060         0.243748   \n",
       "\n",
       "   compactness_mean  concavity_mean  points_mean  symmetry_mean  ...  \\\n",
       "0          0.154684        0.093416     0.183897       0.454040  ...   \n",
       "1          0.292375        0.149649     0.131312       0.435354  ...   \n",
       "2          0.179928        0.071368     0.123260       0.330303  ...   \n",
       "3          0.289001        0.108599     0.238370       0.359091  ...   \n",
       "4          0.153242        0.079499     0.132058       0.333838  ...   \n",
       "\n",
       "   radius_worst  texture_worst  perimeter_worst  area_worst  smoothness_worst  \\\n",
       "0      0.198150       0.096482         0.182081    0.089437          0.444628   \n",
       "1      0.140519       0.291045         0.138802    0.058887          0.331044   \n",
       "2      0.159374       0.384328         0.147019    0.070340          0.434062   \n",
       "3      0.141942       0.099947         0.130086    0.061148          0.432741   \n",
       "4      0.294201       0.098881         0.269386    0.155795          0.273592   \n",
       "\n",
       "   compactness_worst  concavity_worst  points_worst  symmetry_worst  \\\n",
       "0           0.096351         0.099201      0.322715        0.248768   \n",
       "1           0.217530         0.153035      0.272371        0.271043   \n",
       "2           0.117307         0.085224      0.255361        0.282476   \n",
       "3           0.150294         0.069241      0.295911        0.105855   \n",
       "4           0.142048         0.108786      0.281031        0.181747   \n",
       "\n",
       "   dimension_worst  \n",
       "0         0.083104  \n",
       "1         0.136626  \n",
       "2         0.155910  \n",
       "3         0.083956  \n",
       "4         0.082776  \n",
       "\n",
       "[5 rows x 31 columns]"
      ]
     },
     "execution_count": 23,
     "metadata": {},
     "output_type": "execute_result"
    }
   ],
   "source": [
    "#transforming the data\n",
    "X_clean = pd.DataFrame(processed_2.transform(X_preprocessed),columns = X_preprocessed.columns)\n",
    "X_clean.head()"
   ]
  },
  {
   "cell_type": "code",
   "execution_count": 25,
   "id": "b90d88b1",
   "metadata": {
    "scrolled": true
   },
   "outputs": [
    {
     "data": {
      "text/html": [
       "<div>\n",
       "<style scoped>\n",
       "    .dataframe tbody tr th:only-of-type {\n",
       "        vertical-align: middle;\n",
       "    }\n",
       "\n",
       "    .dataframe tbody tr th {\n",
       "        vertical-align: top;\n",
       "    }\n",
       "\n",
       "    .dataframe thead th {\n",
       "        text-align: right;\n",
       "    }\n",
       "</style>\n",
       "<table border=\"1\" class=\"dataframe\">\n",
       "  <thead>\n",
       "    <tr style=\"text-align: right;\">\n",
       "      <th></th>\n",
       "      <th>count</th>\n",
       "      <th>mean</th>\n",
       "      <th>std</th>\n",
       "      <th>min</th>\n",
       "      <th>25%</th>\n",
       "      <th>50%</th>\n",
       "      <th>75%</th>\n",
       "      <th>max</th>\n",
       "    </tr>\n",
       "  </thead>\n",
       "  <tbody>\n",
       "    <tr>\n",
       "      <th>Sex</th>\n",
       "      <td>569.0</td>\n",
       "      <td>0.467487</td>\n",
       "      <td>0.499381</td>\n",
       "      <td>0.0</td>\n",
       "      <td>0.000000</td>\n",
       "      <td>0.000000</td>\n",
       "      <td>1.000000</td>\n",
       "      <td>1.0</td>\n",
       "    </tr>\n",
       "    <tr>\n",
       "      <th>radius_mean</th>\n",
       "      <td>569.0</td>\n",
       "      <td>0.338222</td>\n",
       "      <td>0.166787</td>\n",
       "      <td>0.0</td>\n",
       "      <td>0.223342</td>\n",
       "      <td>0.302381</td>\n",
       "      <td>0.416442</td>\n",
       "      <td>1.0</td>\n",
       "    </tr>\n",
       "    <tr>\n",
       "      <th>texture_mean</th>\n",
       "      <td>569.0</td>\n",
       "      <td>0.323965</td>\n",
       "      <td>0.145453</td>\n",
       "      <td>0.0</td>\n",
       "      <td>0.218465</td>\n",
       "      <td>0.308759</td>\n",
       "      <td>0.408860</td>\n",
       "      <td>1.0</td>\n",
       "    </tr>\n",
       "    <tr>\n",
       "      <th>perimeter_mean</th>\n",
       "      <td>569.0</td>\n",
       "      <td>0.332935</td>\n",
       "      <td>0.167915</td>\n",
       "      <td>0.0</td>\n",
       "      <td>0.216847</td>\n",
       "      <td>0.293345</td>\n",
       "      <td>0.416765</td>\n",
       "      <td>1.0</td>\n",
       "    </tr>\n",
       "    <tr>\n",
       "      <th>area_mean</th>\n",
       "      <td>569.0</td>\n",
       "      <td>0.216920</td>\n",
       "      <td>0.149274</td>\n",
       "      <td>0.0</td>\n",
       "      <td>0.117413</td>\n",
       "      <td>0.172895</td>\n",
       "      <td>0.271135</td>\n",
       "      <td>1.0</td>\n",
       "    </tr>\n",
       "    <tr>\n",
       "      <th>smoothness_mean</th>\n",
       "      <td>569.0</td>\n",
       "      <td>0.394785</td>\n",
       "      <td>0.126967</td>\n",
       "      <td>0.0</td>\n",
       "      <td>0.304595</td>\n",
       "      <td>0.390358</td>\n",
       "      <td>0.475490</td>\n",
       "      <td>1.0</td>\n",
       "    </tr>\n",
       "    <tr>\n",
       "      <th>compactness_mean</th>\n",
       "      <td>569.0</td>\n",
       "      <td>0.260601</td>\n",
       "      <td>0.161992</td>\n",
       "      <td>0.0</td>\n",
       "      <td>0.139685</td>\n",
       "      <td>0.224679</td>\n",
       "      <td>0.340531</td>\n",
       "      <td>1.0</td>\n",
       "    </tr>\n",
       "    <tr>\n",
       "      <th>concavity_mean</th>\n",
       "      <td>569.0</td>\n",
       "      <td>0.208320</td>\n",
       "      <td>0.186730</td>\n",
       "      <td>0.0</td>\n",
       "      <td>0.069260</td>\n",
       "      <td>0.144213</td>\n",
       "      <td>0.306232</td>\n",
       "      <td>1.0</td>\n",
       "    </tr>\n",
       "    <tr>\n",
       "      <th>points_mean</th>\n",
       "      <td>569.0</td>\n",
       "      <td>0.242772</td>\n",
       "      <td>0.192660</td>\n",
       "      <td>0.0</td>\n",
       "      <td>0.100944</td>\n",
       "      <td>0.166501</td>\n",
       "      <td>0.366004</td>\n",
       "      <td>1.0</td>\n",
       "    </tr>\n",
       "    <tr>\n",
       "      <th>symmetry_mean</th>\n",
       "      <td>569.0</td>\n",
       "      <td>0.379601</td>\n",
       "      <td>0.138456</td>\n",
       "      <td>0.0</td>\n",
       "      <td>0.282323</td>\n",
       "      <td>0.369697</td>\n",
       "      <td>0.453030</td>\n",
       "      <td>1.0</td>\n",
       "    </tr>\n",
       "    <tr>\n",
       "      <th>dimension_mean</th>\n",
       "      <td>569.0</td>\n",
       "      <td>0.270379</td>\n",
       "      <td>0.148702</td>\n",
       "      <td>0.0</td>\n",
       "      <td>0.163016</td>\n",
       "      <td>0.243892</td>\n",
       "      <td>0.340354</td>\n",
       "      <td>1.0</td>\n",
       "    </tr>\n",
       "    <tr>\n",
       "      <th>radius_se</th>\n",
       "      <td>569.0</td>\n",
       "      <td>0.106345</td>\n",
       "      <td>0.100421</td>\n",
       "      <td>0.0</td>\n",
       "      <td>0.043781</td>\n",
       "      <td>0.077023</td>\n",
       "      <td>0.133044</td>\n",
       "      <td>1.0</td>\n",
       "    </tr>\n",
       "    <tr>\n",
       "      <th>texture_se</th>\n",
       "      <td>569.0</td>\n",
       "      <td>0.189324</td>\n",
       "      <td>0.121917</td>\n",
       "      <td>0.0</td>\n",
       "      <td>0.104690</td>\n",
       "      <td>0.165267</td>\n",
       "      <td>0.246155</td>\n",
       "      <td>1.0</td>\n",
       "    </tr>\n",
       "    <tr>\n",
       "      <th>perimeter_se</th>\n",
       "      <td>569.0</td>\n",
       "      <td>0.099376</td>\n",
       "      <td>0.095267</td>\n",
       "      <td>0.0</td>\n",
       "      <td>0.040004</td>\n",
       "      <td>0.072092</td>\n",
       "      <td>0.122509</td>\n",
       "      <td>1.0</td>\n",
       "    </tr>\n",
       "    <tr>\n",
       "      <th>area_se</th>\n",
       "      <td>569.0</td>\n",
       "      <td>0.062636</td>\n",
       "      <td>0.084967</td>\n",
       "      <td>0.0</td>\n",
       "      <td>0.020635</td>\n",
       "      <td>0.033112</td>\n",
       "      <td>0.071700</td>\n",
       "      <td>1.0</td>\n",
       "    </tr>\n",
       "    <tr>\n",
       "      <th>smoothness_se</th>\n",
       "      <td>569.0</td>\n",
       "      <td>0.181119</td>\n",
       "      <td>0.102067</td>\n",
       "      <td>0.0</td>\n",
       "      <td>0.117483</td>\n",
       "      <td>0.158650</td>\n",
       "      <td>0.218683</td>\n",
       "      <td>1.0</td>\n",
       "    </tr>\n",
       "    <tr>\n",
       "      <th>compactness_se</th>\n",
       "      <td>569.0</td>\n",
       "      <td>0.174439</td>\n",
       "      <td>0.134498</td>\n",
       "      <td>0.0</td>\n",
       "      <td>0.081323</td>\n",
       "      <td>0.136675</td>\n",
       "      <td>0.226800</td>\n",
       "      <td>1.0</td>\n",
       "    </tr>\n",
       "    <tr>\n",
       "      <th>concavity_se</th>\n",
       "      <td>569.0</td>\n",
       "      <td>0.080540</td>\n",
       "      <td>0.076227</td>\n",
       "      <td>0.0</td>\n",
       "      <td>0.038106</td>\n",
       "      <td>0.065379</td>\n",
       "      <td>0.106187</td>\n",
       "      <td>1.0</td>\n",
       "    </tr>\n",
       "    <tr>\n",
       "      <th>points_se</th>\n",
       "      <td>569.0</td>\n",
       "      <td>0.223454</td>\n",
       "      <td>0.116884</td>\n",
       "      <td>0.0</td>\n",
       "      <td>0.144686</td>\n",
       "      <td>0.207047</td>\n",
       "      <td>0.278651</td>\n",
       "      <td>1.0</td>\n",
       "    </tr>\n",
       "    <tr>\n",
       "      <th>symmetry_se</th>\n",
       "      <td>569.0</td>\n",
       "      <td>0.178143</td>\n",
       "      <td>0.116316</td>\n",
       "      <td>0.0</td>\n",
       "      <td>0.102409</td>\n",
       "      <td>0.152643</td>\n",
       "      <td>0.219480</td>\n",
       "      <td>1.0</td>\n",
       "    </tr>\n",
       "    <tr>\n",
       "      <th>dimension_se</th>\n",
       "      <td>569.0</td>\n",
       "      <td>0.100193</td>\n",
       "      <td>0.091417</td>\n",
       "      <td>0.0</td>\n",
       "      <td>0.046750</td>\n",
       "      <td>0.079191</td>\n",
       "      <td>0.126556</td>\n",
       "      <td>1.0</td>\n",
       "    </tr>\n",
       "    <tr>\n",
       "      <th>radius_worst</th>\n",
       "      <td>569.0</td>\n",
       "      <td>0.296663</td>\n",
       "      <td>0.171940</td>\n",
       "      <td>0.0</td>\n",
       "      <td>0.180719</td>\n",
       "      <td>0.250445</td>\n",
       "      <td>0.386339</td>\n",
       "      <td>1.0</td>\n",
       "    </tr>\n",
       "    <tr>\n",
       "      <th>texture_worst</th>\n",
       "      <td>569.0</td>\n",
       "      <td>0.363998</td>\n",
       "      <td>0.163813</td>\n",
       "      <td>0.0</td>\n",
       "      <td>0.241471</td>\n",
       "      <td>0.356876</td>\n",
       "      <td>0.471748</td>\n",
       "      <td>1.0</td>\n",
       "    </tr>\n",
       "    <tr>\n",
       "      <th>perimeter_worst</th>\n",
       "      <td>569.0</td>\n",
       "      <td>0.283138</td>\n",
       "      <td>0.167352</td>\n",
       "      <td>0.0</td>\n",
       "      <td>0.167837</td>\n",
       "      <td>0.235320</td>\n",
       "      <td>0.373475</td>\n",
       "      <td>1.0</td>\n",
       "    </tr>\n",
       "    <tr>\n",
       "      <th>area_worst</th>\n",
       "      <td>569.0</td>\n",
       "      <td>0.170906</td>\n",
       "      <td>0.139932</td>\n",
       "      <td>0.0</td>\n",
       "      <td>0.081130</td>\n",
       "      <td>0.123206</td>\n",
       "      <td>0.220901</td>\n",
       "      <td>1.0</td>\n",
       "    </tr>\n",
       "    <tr>\n",
       "      <th>smoothness_worst</th>\n",
       "      <td>569.0</td>\n",
       "      <td>0.404138</td>\n",
       "      <td>0.150779</td>\n",
       "      <td>0.0</td>\n",
       "      <td>0.300007</td>\n",
       "      <td>0.397081</td>\n",
       "      <td>0.494156</td>\n",
       "      <td>1.0</td>\n",
       "    </tr>\n",
       "    <tr>\n",
       "      <th>compactness_worst</th>\n",
       "      <td>569.0</td>\n",
       "      <td>0.220212</td>\n",
       "      <td>0.152649</td>\n",
       "      <td>0.0</td>\n",
       "      <td>0.116337</td>\n",
       "      <td>0.179110</td>\n",
       "      <td>0.302520</td>\n",
       "      <td>1.0</td>\n",
       "    </tr>\n",
       "    <tr>\n",
       "      <th>concavity_worst</th>\n",
       "      <td>569.0</td>\n",
       "      <td>0.217403</td>\n",
       "      <td>0.166633</td>\n",
       "      <td>0.0</td>\n",
       "      <td>0.091454</td>\n",
       "      <td>0.181070</td>\n",
       "      <td>0.305831</td>\n",
       "      <td>1.0</td>\n",
       "    </tr>\n",
       "    <tr>\n",
       "      <th>points_worst</th>\n",
       "      <td>569.0</td>\n",
       "      <td>0.393836</td>\n",
       "      <td>0.225884</td>\n",
       "      <td>0.0</td>\n",
       "      <td>0.223127</td>\n",
       "      <td>0.343402</td>\n",
       "      <td>0.554639</td>\n",
       "      <td>1.0</td>\n",
       "    </tr>\n",
       "    <tr>\n",
       "      <th>symmetry_worst</th>\n",
       "      <td>569.0</td>\n",
       "      <td>0.263307</td>\n",
       "      <td>0.121954</td>\n",
       "      <td>0.0</td>\n",
       "      <td>0.185098</td>\n",
       "      <td>0.247782</td>\n",
       "      <td>0.318155</td>\n",
       "      <td>1.0</td>\n",
       "    </tr>\n",
       "    <tr>\n",
       "      <th>dimension_worst</th>\n",
       "      <td>569.0</td>\n",
       "      <td>0.189596</td>\n",
       "      <td>0.118466</td>\n",
       "      <td>0.0</td>\n",
       "      <td>0.107700</td>\n",
       "      <td>0.163977</td>\n",
       "      <td>0.242949</td>\n",
       "      <td>1.0</td>\n",
       "    </tr>\n",
       "  </tbody>\n",
       "</table>\n",
       "</div>"
      ],
      "text/plain": [
       "                   count      mean       std  min       25%       50%  \\\n",
       "Sex                569.0  0.467487  0.499381  0.0  0.000000  0.000000   \n",
       "radius_mean        569.0  0.338222  0.166787  0.0  0.223342  0.302381   \n",
       "texture_mean       569.0  0.323965  0.145453  0.0  0.218465  0.308759   \n",
       "perimeter_mean     569.0  0.332935  0.167915  0.0  0.216847  0.293345   \n",
       "area_mean          569.0  0.216920  0.149274  0.0  0.117413  0.172895   \n",
       "smoothness_mean    569.0  0.394785  0.126967  0.0  0.304595  0.390358   \n",
       "compactness_mean   569.0  0.260601  0.161992  0.0  0.139685  0.224679   \n",
       "concavity_mean     569.0  0.208320  0.186730  0.0  0.069260  0.144213   \n",
       "points_mean        569.0  0.242772  0.192660  0.0  0.100944  0.166501   \n",
       "symmetry_mean      569.0  0.379601  0.138456  0.0  0.282323  0.369697   \n",
       "dimension_mean     569.0  0.270379  0.148702  0.0  0.163016  0.243892   \n",
       "radius_se          569.0  0.106345  0.100421  0.0  0.043781  0.077023   \n",
       "texture_se         569.0  0.189324  0.121917  0.0  0.104690  0.165267   \n",
       "perimeter_se       569.0  0.099376  0.095267  0.0  0.040004  0.072092   \n",
       "area_se            569.0  0.062636  0.084967  0.0  0.020635  0.033112   \n",
       "smoothness_se      569.0  0.181119  0.102067  0.0  0.117483  0.158650   \n",
       "compactness_se     569.0  0.174439  0.134498  0.0  0.081323  0.136675   \n",
       "concavity_se       569.0  0.080540  0.076227  0.0  0.038106  0.065379   \n",
       "points_se          569.0  0.223454  0.116884  0.0  0.144686  0.207047   \n",
       "symmetry_se        569.0  0.178143  0.116316  0.0  0.102409  0.152643   \n",
       "dimension_se       569.0  0.100193  0.091417  0.0  0.046750  0.079191   \n",
       "radius_worst       569.0  0.296663  0.171940  0.0  0.180719  0.250445   \n",
       "texture_worst      569.0  0.363998  0.163813  0.0  0.241471  0.356876   \n",
       "perimeter_worst    569.0  0.283138  0.167352  0.0  0.167837  0.235320   \n",
       "area_worst         569.0  0.170906  0.139932  0.0  0.081130  0.123206   \n",
       "smoothness_worst   569.0  0.404138  0.150779  0.0  0.300007  0.397081   \n",
       "compactness_worst  569.0  0.220212  0.152649  0.0  0.116337  0.179110   \n",
       "concavity_worst    569.0  0.217403  0.166633  0.0  0.091454  0.181070   \n",
       "points_worst       569.0  0.393836  0.225884  0.0  0.223127  0.343402   \n",
       "symmetry_worst     569.0  0.263307  0.121954  0.0  0.185098  0.247782   \n",
       "dimension_worst    569.0  0.189596  0.118466  0.0  0.107700  0.163977   \n",
       "\n",
       "                        75%  max  \n",
       "Sex                1.000000  1.0  \n",
       "radius_mean        0.416442  1.0  \n",
       "texture_mean       0.408860  1.0  \n",
       "perimeter_mean     0.416765  1.0  \n",
       "area_mean          0.271135  1.0  \n",
       "smoothness_mean    0.475490  1.0  \n",
       "compactness_mean   0.340531  1.0  \n",
       "concavity_mean     0.306232  1.0  \n",
       "points_mean        0.366004  1.0  \n",
       "symmetry_mean      0.453030  1.0  \n",
       "dimension_mean     0.340354  1.0  \n",
       "radius_se          0.133044  1.0  \n",
       "texture_se         0.246155  1.0  \n",
       "perimeter_se       0.122509  1.0  \n",
       "area_se            0.071700  1.0  \n",
       "smoothness_se      0.218683  1.0  \n",
       "compactness_se     0.226800  1.0  \n",
       "concavity_se       0.106187  1.0  \n",
       "points_se          0.278651  1.0  \n",
       "symmetry_se        0.219480  1.0  \n",
       "dimension_se       0.126556  1.0  \n",
       "radius_worst       0.386339  1.0  \n",
       "texture_worst      0.471748  1.0  \n",
       "perimeter_worst    0.373475  1.0  \n",
       "area_worst         0.220901  1.0  \n",
       "smoothness_worst   0.494156  1.0  \n",
       "compactness_worst  0.302520  1.0  \n",
       "concavity_worst    0.305831  1.0  \n",
       "points_worst       0.554639  1.0  \n",
       "symmetry_worst     0.318155  1.0  \n",
       "dimension_worst    0.242949  1.0  "
      ]
     },
     "execution_count": 25,
     "metadata": {},
     "output_type": "execute_result"
    }
   ],
   "source": [
    "X_clean.describe().T"
   ]
  },
  {
   "cell_type": "markdown",
   "id": "fc04a929",
   "metadata": {},
   "source": [
    "---"
   ]
  },
  {
   "cell_type": "code",
   "execution_count": 42,
   "id": "72df390e",
   "metadata": {},
   "outputs": [],
   "source": [
    "#splitting the data\n",
    "X_train,X_test,y_train,y_test = train_test_split(X_clean,y,test_size = 0.2,random_state = 0)"
   ]
  },
  {
   "cell_type": "code",
   "execution_count": 43,
   "id": "b7a765c7",
   "metadata": {},
   "outputs": [
    {
     "name": "stdout",
     "output_type": "stream",
     "text": [
      "X_train shape:  (455, 31)\n",
      "y_train shape:  (455,)\n",
      "X_test shape:  (114, 31)\n",
      "y_test shape:  (114,)\n"
     ]
    }
   ],
   "source": [
    "#checking the shapes and making sure all is okay\n",
    "print('X_train shape: ',X_train.shape)\n",
    "print('y_train shape: ',y_train.shape)\n",
    "print('X_test shape: ',X_test.shape)\n",
    "print('y_test shape: ',y_test.shape)"
   ]
  },
  {
   "cell_type": "markdown",
   "id": "00f6dfde",
   "metadata": {},
   "source": [
    "### Using KNN classifier"
   ]
  },
  {
   "cell_type": "code",
   "execution_count": 44,
   "id": "8a6dc41f",
   "metadata": {
    "scrolled": true
   },
   "outputs": [],
   "source": [
    "#instantiate the model\n",
    "knn = KNeighborsClassifier(n_neighbors = 5)\n",
    "\n",
    "#fitting the data\n",
    "knn.fit(X_train,y_train)\n",
    "\n",
    "#predictin on training data\n",
    "train_pred = knn.predict(X_train)"
   ]
  },
  {
   "cell_type": "code",
   "execution_count": 46,
   "id": "5474a1e0",
   "metadata": {},
   "outputs": [
    {
     "data": {
      "text/html": [
       "<div>\n",
       "<style scoped>\n",
       "    .dataframe tbody tr th:only-of-type {\n",
       "        vertical-align: middle;\n",
       "    }\n",
       "\n",
       "    .dataframe tbody tr th {\n",
       "        vertical-align: top;\n",
       "    }\n",
       "\n",
       "    .dataframe thead th {\n",
       "        text-align: right;\n",
       "    }\n",
       "</style>\n",
       "<table border=\"1\" class=\"dataframe\">\n",
       "  <thead>\n",
       "    <tr style=\"text-align: right;\">\n",
       "      <th>Predictions</th>\n",
       "      <th>B</th>\n",
       "      <th>M</th>\n",
       "    </tr>\n",
       "    <tr>\n",
       "      <th>Actual</th>\n",
       "      <th></th>\n",
       "      <th></th>\n",
       "    </tr>\n",
       "  </thead>\n",
       "  <tbody>\n",
       "    <tr>\n",
       "      <th>B</th>\n",
       "      <td>277</td>\n",
       "      <td>3</td>\n",
       "    </tr>\n",
       "    <tr>\n",
       "      <th>M</th>\n",
       "      <td>13</td>\n",
       "      <td>162</td>\n",
       "    </tr>\n",
       "  </tbody>\n",
       "</table>\n",
       "</div>"
      ],
      "text/plain": [
       "Predictions    B    M\n",
       "Actual               \n",
       "B            277    3\n",
       "M             13  162"
      ]
     },
     "execution_count": 46,
     "metadata": {},
     "output_type": "execute_result"
    }
   ],
   "source": [
    "# Cross table\n",
    "pd.crosstab(y_train, train_pred, rownames = ['Actual'], colnames = ['Predictions']) "
   ]
  },
  {
   "cell_type": "code",
   "execution_count": 47,
   "id": "03806f26",
   "metadata": {},
   "outputs": [
    {
     "data": {
      "text/plain": [
       "0.9648351648351648"
      ]
     },
     "execution_count": 47,
     "metadata": {},
     "output_type": "execute_result"
    }
   ],
   "source": [
    "from sklearn.metrics import precision_score, recall_score,f1_score,accuracy_score,confusion_matrix\n",
    "accuracy_score(y_train, train_pred) # Accuracy measure"
   ]
  },
  {
   "cell_type": "code",
   "execution_count": 49,
   "id": "80f5ffae",
   "metadata": {},
   "outputs": [
    {
     "name": "stdout",
     "output_type": "stream",
     "text": [
      "Accuracy score: 0.9385964912280702\n"
     ]
    },
    {
     "data": {
      "text/html": [
       "<div>\n",
       "<style scoped>\n",
       "    .dataframe tbody tr th:only-of-type {\n",
       "        vertical-align: middle;\n",
       "    }\n",
       "\n",
       "    .dataframe tbody tr th {\n",
       "        vertical-align: top;\n",
       "    }\n",
       "\n",
       "    .dataframe thead th {\n",
       "        text-align: right;\n",
       "    }\n",
       "</style>\n",
       "<table border=\"1\" class=\"dataframe\">\n",
       "  <thead>\n",
       "    <tr style=\"text-align: right;\">\n",
       "      <th>Predictions</th>\n",
       "      <th>B</th>\n",
       "      <th>M</th>\n",
       "    </tr>\n",
       "    <tr>\n",
       "      <th>Actual</th>\n",
       "      <th></th>\n",
       "      <th></th>\n",
       "    </tr>\n",
       "  </thead>\n",
       "  <tbody>\n",
       "    <tr>\n",
       "      <th>B</th>\n",
       "      <td>75</td>\n",
       "      <td>2</td>\n",
       "    </tr>\n",
       "    <tr>\n",
       "      <th>M</th>\n",
       "      <td>5</td>\n",
       "      <td>32</td>\n",
       "    </tr>\n",
       "  </tbody>\n",
       "</table>\n",
       "</div>"
      ],
      "text/plain": [
       "Predictions   B   M\n",
       "Actual             \n",
       "B            75   2\n",
       "M             5  32"
      ]
     },
     "execution_count": 49,
     "metadata": {},
     "output_type": "execute_result"
    }
   ],
   "source": [
    "# Predict the class on test data\n",
    "pred_test = knn.predict(X_test)\n",
    "pred_test\n",
    "\n",
    "# Evaluate the model with test data\n",
    "print('Accuracy score:',accuracy_score(y_test, pred_test))\n",
    "pd.crosstab(y_test, pred_test, rownames = ['Actual'], colnames = ['Predictions']) \n"
   ]
  },
  {
   "cell_type": "code",
   "execution_count": 50,
   "id": "8432a981",
   "metadata": {},
   "outputs": [],
   "source": [
    "# creating empty list variable \n",
    "acc = []\n",
    "\n",
    "# running KNN algorithm from 3 to 50 nearest neighbours (odd numbers) and storing the accuracy values\n",
    "\n",
    "for i in range(3, 50, 2):\n",
    "    neigh = KNeighborsClassifier(n_neighbors = i)\n",
    "    neigh.fit(X_train, y_train)\n",
    "    train_acc = np.mean(neigh.predict(X_train) == y_train)\n",
    "    test_acc = np.mean(neigh.predict(X_test) == y_test)\n",
    "    diff = train_acc - test_acc\n",
    "    acc.append([diff, train_acc, test_acc])"
   ]
  },
  {
   "cell_type": "code",
   "execution_count": 52,
   "id": "654b08a5",
   "metadata": {},
   "outputs": [
    {
     "data": {
      "image/png": "[encoded data removed]",
      "text/plain": [
       "<Figure size 1440x864 with 1 Axes>"
      ]
     },
     "metadata": {
      "needs_background": "light"
     },
     "output_type": "display_data"
    }
   ],
   "source": [
    "#plotting the accuracies\n",
    "plt.plot(np.arange(3, 50, 2), [i[1] for i in acc], \"ro-\") #training accuracy\n",
    "plt.plot(np.arange(3, 50, 2), [i[2] for i in acc], \"bo-\") #testing accuracy\n",
    "plt.show()"
   ]
  },
  {
   "cell_type": "markdown",
   "id": "e96d4854",
   "metadata": {},
   "source": [
    "We can clearly see that the model performs well on both training and testing data with 9 neighbors"
   ]
  },
  {
   "cell_type": "code",
   "execution_count": 53,
   "id": "7bdf8857",
   "metadata": {},
   "outputs": [],
   "source": [
    "#building a model with 9 neighbors\n",
    "knn = KNeighborsClassifier(n_neighbors = 9)\n",
    "knn.fit(X_train,y_train)\n",
    "y_pred = knn.predict(X_test)"
   ]
  },
  {
   "cell_type": "code",
   "execution_count": 55,
   "id": "81386d49",
   "metadata": {},
   "outputs": [
    {
     "data": {
      "image/png": "[encoded data removed]",
      "text/plain": [
       "<Figure size 576x576 with 2 Axes>"
      ]
     },
     "metadata": {
      "needs_background": "light"
     },
     "output_type": "display_data"
    }
   ],
   "source": [
    "cm = confusion_matrix(y_test,y_pred)\n",
    "#creating a heatmap\n",
    "plt.figure(figsize = (8,8))\n",
    "sns.heatmap(cm,annot = True)\n",
    "plt.show()"
   ]
  },
  {
   "cell_type": "markdown",
   "id": "d6db745a",
   "metadata": {},
   "source": [
    "### Using Logistic Regression Classifier"
   ]
  },
  {
   "cell_type": "code",
   "execution_count": 56,
   "id": "bfcec02e",
   "metadata": {},
   "outputs": [
    {
     "data": {
      "text/html": [
       "<style>#sk-container-id-2 {color: black;background-color: white;}#sk-container-id-2 pre{padding: 0;}#sk-container-id-2 div.sk-toggleable {background-color: white;}#sk-container-id-2 label.sk-toggleable__label {cursor: pointer;display: block;width: 100%;margin-bottom: 0;padding: 0.3em;box-sizing: border-box;text-align: center;}#sk-container-id-2 label.sk-toggleable__label-arrow:before {content: \"▸\";float: left;margin-right: 0.25em;color: #696969;}#sk-container-id-2 label.sk-toggleable__label-arrow:hover:before {color: black;}#sk-container-id-2 div.sk-estimator:hover label.sk-toggleable__label-arrow:before {color: black;}#sk-container-id-2 div.sk-toggleable__content {max-height: 0;max-width: 0;overflow: hidden;text-align: left;background-color: #f0f8ff;}#sk-container-id-2 div.sk-toggleable__content pre {margin: 0.2em;color: black;border-radius: 0.25em;background-color: #f0f8ff;}#sk-container-id-2 input.sk-toggleable__control:checked~div.sk-toggleable__content {max-height: 200px;max-width: 100%;overflow: auto;}#sk-container-id-2 input.sk-toggleable__control:checked~label.sk-toggleable__label-arrow:before {content: \"▾\";}#sk-container-id-2 div.sk-estimator input.sk-toggleable__control:checked~label.sk-toggleable__label {background-color: #d4ebff;}#sk-container-id-2 div.sk-label input.sk-toggleable__control:checked~label.sk-toggleable__label {background-color: #d4ebff;}#sk-container-id-2 input.sk-hidden--visually {border: 0;clip: rect(1px 1px 1px 1px);clip: rect(1px, 1px, 1px, 1px);height: 1px;margin: -1px;overflow: hidden;padding: 0;position: absolute;width: 1px;}#sk-container-id-2 div.sk-estimator {font-family: monospace;background-color: #f0f8ff;border: 1px dotted black;border-radius: 0.25em;box-sizing: border-box;margin-bottom: 0.5em;}#sk-container-id-2 div.sk-estimator:hover {background-color: #d4ebff;}#sk-container-id-2 div.sk-parallel-item::after {content: \"\";width: 100%;border-bottom: 1px solid gray;flex-grow: 1;}#sk-container-id-2 div.sk-label:hover label.sk-toggleable__label {background-color: #d4ebff;}#sk-container-id-2 div.sk-serial::before {content: \"\";position: absolute;border-left: 1px solid gray;box-sizing: border-box;top: 0;bottom: 0;left: 50%;z-index: 0;}#sk-container-id-2 div.sk-serial {display: flex;flex-direction: column;align-items: center;background-color: white;padding-right: 0.2em;padding-left: 0.2em;position: relative;}#sk-container-id-2 div.sk-item {position: relative;z-index: 1;}#sk-container-id-2 div.sk-parallel {display: flex;align-items: stretch;justify-content: center;background-color: white;position: relative;}#sk-container-id-2 div.sk-item::before, #sk-container-id-2 div.sk-parallel-item::before {content: \"\";position: absolute;border-left: 1px solid gray;box-sizing: border-box;top: 0;bottom: 0;left: 50%;z-index: -1;}#sk-container-id-2 div.sk-parallel-item {display: flex;flex-direction: column;z-index: 1;position: relative;background-color: white;}#sk-container-id-2 div.sk-parallel-item:first-child::after {align-self: flex-end;width: 50%;}#sk-container-id-2 div.sk-parallel-item:last-child::after {align-self: flex-start;width: 50%;}#sk-container-id-2 div.sk-parallel-item:only-child::after {width: 0;}#sk-container-id-2 div.sk-dashed-wrapped {border: 1px dashed gray;margin: 0 0.4em 0.5em 0.4em;box-sizing: border-box;padding-bottom: 0.4em;background-color: white;}#sk-container-id-2 div.sk-label label {font-family: monospace;font-weight: bold;display: inline-block;line-height: 1.2em;}#sk-container-id-2 div.sk-label-container {text-align: center;}#sk-container-id-2 div.sk-container {/* jupyter's `normalize.less` sets `[hidden] { display: none; }` but bootstrap.min.css set `[hidden] { display: none !important; }` so we also need the `!important` here to be able to override the default hidden behavior on the sphinx rendered scikit-learn.org. See: https://github.com/scikit-learn/scikit-learn/issues/21755 */display: inline-block !important;position: relative;}#sk-container-id-2 div.sk-text-repr-fallback {display: none;}</style><div id=\"sk-container-id-2\" class=\"sk-top-container\"><div class=\"sk-text-repr-fallback\"><pre>LogisticRegression()</pre><b>In a Jupyter environment, please rerun this cell to show the HTML representation or trust the notebook. <br />On GitHub, the HTML representation is unable to render, please try loading this page with nbviewer.org.</b></div><div class=\"sk-container\" hidden><div class=\"sk-item\"><div class=\"sk-estimator sk-toggleable\"><input class=\"sk-toggleable__control sk-hidden--visually\" id=\"sk-estimator-id-6\" type=\"checkbox\" checked><label for=\"sk-estimator-id-6\" class=\"sk-toggleable__label sk-toggleable__label-arrow\">LogisticRegression</label><div class=\"sk-toggleable__content\"><pre>LogisticRegression()</pre></div></div></div></div></div>"
      ],
      "text/plain": [
       "LogisticRegression()"
      ]
     },
     "execution_count": 56,
     "metadata": {},
     "output_type": "execute_result"
    }
   ],
   "source": [
    "log = LogisticRegression()\n",
    "log.fit(X_train,y_train)"
   ]
  },
  {
   "cell_type": "code",
   "execution_count": 57,
   "id": "6fc7e54e",
   "metadata": {},
   "outputs": [
    {
     "data": {
      "image/png": "[encoded data removed]",
      "text/plain": [
       "<Figure size 576x576 with 2 Axes>"
      ]
     },
     "metadata": {
      "needs_background": "light"
     },
     "output_type": "display_data"
    }
   ],
   "source": [
    "#predicting on testing data\n",
    "y_pred = log.predict(X_test)\n",
    "\n",
    "#plotting a confusion matrix\n",
    "cm = confusion_matrix(y_test,y_pred)\n",
    "plt.figure(figsize = (8,8))\n",
    "sns.heatmap(cm,annot = True)\n",
    "plt.show()"
   ]
  },
  {
   "cell_type": "code",
   "execution_count": 58,
   "id": "2e1ae53d",
   "metadata": {},
   "outputs": [
    {
     "data": {
      "text/plain": [
       "0.9298245614035088"
      ]
     },
     "execution_count": 58,
     "metadata": {},
     "output_type": "execute_result"
    }
   ],
   "source": [
    "#checking the accuracy\n",
    "accuracy_score(y_test,y_pred)"
   ]
  },
  {
   "cell_type": "markdown",
   "id": "6d8b4aa4",
   "metadata": {},
   "source": [
    "As we can see both from accuracy and from the confusion matrix, logistic regression model performs slightly worse than KNN model"
   ]
  },
  {
   "cell_type": "markdown",
   "id": "f9e4ae6f",
   "metadata": {},
   "source": [
    "### Using decision tree classifier"
   ]
  },
  {
   "cell_type": "code",
   "execution_count": 59,
   "id": "12eb6ec4",
   "metadata": {},
   "outputs": [
    {
     "data": {
      "text/html": [
       "<style>#sk-container-id-3 {color: black;background-color: white;}#sk-container-id-3 pre{padding: 0;}#sk-container-id-3 div.sk-toggleable {background-color: white;}#sk-container-id-3 label.sk-toggleable__label {cursor: pointer;display: block;width: 100%;margin-bottom: 0;padding: 0.3em;box-sizing: border-box;text-align: center;}#sk-container-id-3 label.sk-toggleable__label-arrow:before {content: \"▸\";float: left;margin-right: 0.25em;color: #696969;}#sk-container-id-3 label.sk-toggleable__label-arrow:hover:before {color: black;}#sk-container-id-3 div.sk-estimator:hover label.sk-toggleable__label-arrow:before {color: black;}#sk-container-id-3 div.sk-toggleable__content {max-height: 0;max-width: 0;overflow: hidden;text-align: left;background-color: #f0f8ff;}#sk-container-id-3 div.sk-toggleable__content pre {margin: 0.2em;color: black;border-radius: 0.25em;background-color: #f0f8ff;}#sk-container-id-3 input.sk-toggleable__control:checked~div.sk-toggleable__content {max-height: 200px;max-width: 100%;overflow: auto;}#sk-container-id-3 input.sk-toggleable__control:checked~label.sk-toggleable__label-arrow:before {content: \"▾\";}#sk-container-id-3 div.sk-estimator input.sk-toggleable__control:checked~label.sk-toggleable__label {background-color: #d4ebff;}#sk-container-id-3 div.sk-label input.sk-toggleable__control:checked~label.sk-toggleable__label {background-color: #d4ebff;}#sk-container-id-3 input.sk-hidden--visually {border: 0;clip: rect(1px 1px 1px 1px);clip: rect(1px, 1px, 1px, 1px);height: 1px;margin: -1px;overflow: hidden;padding: 0;position: absolute;width: 1px;}#sk-container-id-3 div.sk-estimator {font-family: monospace;background-color: #f0f8ff;border: 1px dotted black;border-radius: 0.25em;box-sizing: border-box;margin-bottom: 0.5em;}#sk-container-id-3 div.sk-estimator:hover {background-color: #d4ebff;}#sk-container-id-3 div.sk-parallel-item::after {content: \"\";width: 100%;border-bottom: 1px solid gray;flex-grow: 1;}#sk-container-id-3 div.sk-label:hover label.sk-toggleable__label {background-color: #d4ebff;}#sk-container-id-3 div.sk-serial::before {content: \"\";position: absolute;border-left: 1px solid gray;box-sizing: border-box;top: 0;bottom: 0;left: 50%;z-index: 0;}#sk-container-id-3 div.sk-serial {display: flex;flex-direction: column;align-items: center;background-color: white;padding-right: 0.2em;padding-left: 0.2em;position: relative;}#sk-container-id-3 div.sk-item {position: relative;z-index: 1;}#sk-container-id-3 div.sk-parallel {display: flex;align-items: stretch;justify-content: center;background-color: white;position: relative;}#sk-container-id-3 div.sk-item::before, #sk-container-id-3 div.sk-parallel-item::before {content: \"\";position: absolute;border-left: 1px solid gray;box-sizing: border-box;top: 0;bottom: 0;left: 50%;z-index: -1;}#sk-container-id-3 div.sk-parallel-item {display: flex;flex-direction: column;z-index: 1;position: relative;background-color: white;}#sk-container-id-3 div.sk-parallel-item:first-child::after {align-self: flex-end;width: 50%;}#sk-container-id-3 div.sk-parallel-item:last-child::after {align-self: flex-start;width: 50%;}#sk-container-id-3 div.sk-parallel-item:only-child::after {width: 0;}#sk-container-id-3 div.sk-dashed-wrapped {border: 1px dashed gray;margin: 0 0.4em 0.5em 0.4em;box-sizing: border-box;padding-bottom: 0.4em;background-color: white;}#sk-container-id-3 div.sk-label label {font-family: monospace;font-weight: bold;display: inline-block;line-height: 1.2em;}#sk-container-id-3 div.sk-label-container {text-align: center;}#sk-container-id-3 div.sk-container {/* jupyter's `normalize.less` sets `[hidden] { display: none; }` but bootstrap.min.css set `[hidden] { display: none !important; }` so we also need the `!important` here to be able to override the default hidden behavior on the sphinx rendered scikit-learn.org. See: https://github.com/scikit-learn/scikit-learn/issues/21755 */display: inline-block !important;position: relative;}#sk-container-id-3 div.sk-text-repr-fallback {display: none;}</style><div id=\"sk-container-id-3\" class=\"sk-top-container\"><div class=\"sk-text-repr-fallback\"><pre>DecisionTreeClassifier()</pre><b>In a Jupyter environment, please rerun this cell to show the HTML representation or trust the notebook. <br />On GitHub, the HTML representation is unable to render, please try loading this page with nbviewer.org.</b></div><div class=\"sk-container\" hidden><div class=\"sk-item\"><div class=\"sk-estimator sk-toggleable\"><input class=\"sk-toggleable__control sk-hidden--visually\" id=\"sk-estimator-id-7\" type=\"checkbox\" checked><label for=\"sk-estimator-id-7\" class=\"sk-toggleable__label sk-toggleable__label-arrow\">DecisionTreeClassifier</label><div class=\"sk-toggleable__content\"><pre>DecisionTreeClassifier()</pre></div></div></div></div></div>"
      ],
      "text/plain": [
       "DecisionTreeClassifier()"
      ]
     },
     "execution_count": 59,
     "metadata": {},
     "output_type": "execute_result"
    }
   ],
   "source": [
    "dt = DecisionTreeClassifier()\n",
    "dt.fit(X_train,y_train)"
   ]
  },
  {
   "cell_type": "code",
   "execution_count": 60,
   "id": "f2065ced",
   "metadata": {},
   "outputs": [
    {
     "name": "stdout",
     "output_type": "stream",
     "text": [
      "1.0\n"
     ]
    }
   ],
   "source": [
    "#checking training accuracy\n",
    "pred_train = dt.predict(X_train)\n",
    "\n",
    "train_accuracy = accuracy_score(y_train,pred_train)\n",
    "\n",
    "print(train_accuracy)"
   ]
  },
  {
   "cell_type": "code",
   "execution_count": 62,
   "id": "f1239d13",
   "metadata": {},
   "outputs": [
    {
     "data": {
      "image/png": "[encoded data removed]",
      "text/plain": [
       "<Figure size 576x360 with 2 Axes>"
      ]
     },
     "metadata": {
      "needs_background": "light"
     },
     "output_type": "display_data"
    }
   ],
   "source": [
    "#plotting a confusion matrix\n",
    "cm = confusion_matrix(y_train,pred_train)\n",
    "plt.figure(figsize = (8,5))\n",
    "sns.heatmap(cm,annot = True)\n",
    "plt.show()"
   ]
  },
  {
   "cell_type": "code",
   "execution_count": 63,
   "id": "8294a466",
   "metadata": {},
   "outputs": [
    {
     "name": "stdout",
     "output_type": "stream",
     "text": [
      "0.9649122807017544\n"
     ]
    }
   ],
   "source": [
    "#checking test accuracy\n",
    "pred_test = dt.predict(X_test)\n",
    "\n",
    "test_accuracy = accuracy_score(y_test,pred_test)\n",
    "\n",
    "print(test_accuracy)"
   ]
  },
  {
   "cell_type": "code",
   "execution_count": 64,
   "id": "89833ba0",
   "metadata": {},
   "outputs": [
    {
     "data": {
      "image/png": "[encoded data removed]",
      "text/plain": [
       "<Figure size 576x360 with 2 Axes>"
      ]
     },
     "metadata": {
      "needs_background": "light"
     },
     "output_type": "display_data"
    }
   ],
   "source": [
    "#plotting a confusion matrix\n",
    "cm = confusion_matrix(y_test,pred_test)\n",
    "plt.figure(figsize = (8,5))\n",
    "sns.heatmap(cm,annot = True)\n",
    "plt.show()"
   ]
  },
  {
   "cell_type": "markdown",
   "id": "5b2f1840",
   "metadata": {},
   "source": [
    "Decision Tree classifier has outperformed both KNN and Logistic Regression models so far"
   ]
  },
  {
   "cell_type": "markdown",
   "id": "510d1e22",
   "metadata": {},
   "source": [
    "### Using Random Forests classifier"
   ]
  },
  {
   "cell_type": "code",
   "execution_count": 71,
   "id": "05bbdd04",
   "metadata": {},
   "outputs": [
    {
     "data": {
      "text/html": [
       "<style>#sk-container-id-5 {color: black;background-color: white;}#sk-container-id-5 pre{padding: 0;}#sk-container-id-5 div.sk-toggleable {background-color: white;}#sk-container-id-5 label.sk-toggleable__label {cursor: pointer;display: block;width: 100%;margin-bottom: 0;padding: 0.3em;box-sizing: border-box;text-align: center;}#sk-container-id-5 label.sk-toggleable__label-arrow:before {content: \"▸\";float: left;margin-right: 0.25em;color: #696969;}#sk-container-id-5 label.sk-toggleable__label-arrow:hover:before {color: black;}#sk-container-id-5 div.sk-estimator:hover label.sk-toggleable__label-arrow:before {color: black;}#sk-container-id-5 div.sk-toggleable__content {max-height: 0;max-width: 0;overflow: hidden;text-align: left;background-color: #f0f8ff;}#sk-container-id-5 div.sk-toggleable__content pre {margin: 0.2em;color: black;border-radius: 0.25em;background-color: #f0f8ff;}#sk-container-id-5 input.sk-toggleable__control:checked~div.sk-toggleable__content {max-height: 200px;max-width: 100%;overflow: auto;}#sk-container-id-5 input.sk-toggleable__control:checked~label.sk-toggleable__label-arrow:before {content: \"▾\";}#sk-container-id-5 div.sk-estimator input.sk-toggleable__control:checked~label.sk-toggleable__label {background-color: #d4ebff;}#sk-container-id-5 div.sk-label input.sk-toggleable__control:checked~label.sk-toggleable__label {background-color: #d4ebff;}#sk-container-id-5 input.sk-hidden--visually {border: 0;clip: rect(1px 1px 1px 1px);clip: rect(1px, 1px, 1px, 1px);height: 1px;margin: -1px;overflow: hidden;padding: 0;position: absolute;width: 1px;}#sk-container-id-5 div.sk-estimator {font-family: monospace;background-color: #f0f8ff;border: 1px dotted black;border-radius: 0.25em;box-sizing: border-box;margin-bottom: 0.5em;}#sk-container-id-5 div.sk-estimator:hover {background-color: #d4ebff;}#sk-container-id-5 div.sk-parallel-item::after {content: \"\";width: 100%;border-bottom: 1px solid gray;flex-grow: 1;}#sk-container-id-5 div.sk-label:hover label.sk-toggleable__label {background-color: #d4ebff;}#sk-container-id-5 div.sk-serial::before {content: \"\";position: absolute;border-left: 1px solid gray;box-sizing: border-box;top: 0;bottom: 0;left: 50%;z-index: 0;}#sk-container-id-5 div.sk-serial {display: flex;flex-direction: column;align-items: center;background-color: white;padding-right: 0.2em;padding-left: 0.2em;position: relative;}#sk-container-id-5 div.sk-item {position: relative;z-index: 1;}#sk-container-id-5 div.sk-parallel {display: flex;align-items: stretch;justify-content: center;background-color: white;position: relative;}#sk-container-id-5 div.sk-item::before, #sk-container-id-5 div.sk-parallel-item::before {content: \"\";position: absolute;border-left: 1px solid gray;box-sizing: border-box;top: 0;bottom: 0;left: 50%;z-index: -1;}#sk-container-id-5 div.sk-parallel-item {display: flex;flex-direction: column;z-index: 1;position: relative;background-color: white;}#sk-container-id-5 div.sk-parallel-item:first-child::after {align-self: flex-end;width: 50%;}#sk-container-id-5 div.sk-parallel-item:last-child::after {align-self: flex-start;width: 50%;}#sk-container-id-5 div.sk-parallel-item:only-child::after {width: 0;}#sk-container-id-5 div.sk-dashed-wrapped {border: 1px dashed gray;margin: 0 0.4em 0.5em 0.4em;box-sizing: border-box;padding-bottom: 0.4em;background-color: white;}#sk-container-id-5 div.sk-label label {font-family: monospace;font-weight: bold;display: inline-block;line-height: 1.2em;}#sk-container-id-5 div.sk-label-container {text-align: center;}#sk-container-id-5 div.sk-container {/* jupyter's `normalize.less` sets `[hidden] { display: none; }` but bootstrap.min.css set `[hidden] { display: none !important; }` so we also need the `!important` here to be able to override the default hidden behavior on the sphinx rendered scikit-learn.org. See: https://github.com/scikit-learn/scikit-learn/issues/21755 */display: inline-block !important;position: relative;}#sk-container-id-5 div.sk-text-repr-fallback {display: none;}</style><div id=\"sk-container-id-5\" class=\"sk-top-container\"><div class=\"sk-text-repr-fallback\"><pre>RandomForestClassifier()</pre><b>In a Jupyter environment, please rerun this cell to show the HTML representation or trust the notebook. <br />On GitHub, the HTML representation is unable to render, please try loading this page with nbviewer.org.</b></div><div class=\"sk-container\" hidden><div class=\"sk-item\"><div class=\"sk-estimator sk-toggleable\"><input class=\"sk-toggleable__control sk-hidden--visually\" id=\"sk-estimator-id-9\" type=\"checkbox\" checked><label for=\"sk-estimator-id-9\" class=\"sk-toggleable__label sk-toggleable__label-arrow\">RandomForestClassifier</label><div class=\"sk-toggleable__content\"><pre>RandomForestClassifier()</pre></div></div></div></div></div>"
      ],
      "text/plain": [
       "RandomForestClassifier()"
      ]
     },
     "execution_count": 71,
     "metadata": {},
     "output_type": "execute_result"
    }
   ],
   "source": [
    "rf = RandomForestClassifier()\n",
    "rf.fit(X_train,y_train)"
   ]
  },
  {
   "cell_type": "code",
   "execution_count": 72,
   "id": "67475ee7",
   "metadata": {},
   "outputs": [
    {
     "name": "stdout",
     "output_type": "stream",
     "text": [
      "1.0\n"
     ]
    }
   ],
   "source": [
    "#checking training accuracy\n",
    "pred_train = rf.predict(X_train)\n",
    "\n",
    "train_accuracy = accuracy_score(y_train,pred_train)\n",
    "\n",
    "print(train_accuracy)"
   ]
  },
  {
   "cell_type": "code",
   "execution_count": 73,
   "id": "b3b436ac",
   "metadata": {},
   "outputs": [
    {
     "data": {
      "image/png": "[encoded data removed]",
      "text/plain": [
       "<Figure size 576x360 with 2 Axes>"
      ]
     },
     "metadata": {
      "needs_background": "light"
     },
     "output_type": "display_data"
    }
   ],
   "source": [
    "#plotting a confusion matrix\n",
    "cm = confusion_matrix(y_train,pred_train)\n",
    "plt.figure(figsize = (8,5))\n",
    "sns.heatmap(cm,annot = True)\n",
    "plt.show()"
   ]
  },
  {
   "cell_type": "code",
   "execution_count": 76,
   "id": "4e432fa4",
   "metadata": {},
   "outputs": [
    {
     "name": "stdout",
     "output_type": "stream",
     "text": [
      "0.956140350877193\n"
     ]
    }
   ],
   "source": [
    "#checking test accuracy\n",
    "pred_test = rf.predict(X_test)\n",
    "\n",
    "test_accuracy = accuracy_score(y_test,pred_test)\n",
    "\n",
    "print(test_accuracy)"
   ]
  },
  {
   "cell_type": "code",
   "execution_count": 77,
   "id": "9a6811a6",
   "metadata": {},
   "outputs": [
    {
     "data": {
      "image/png": "[encoded data removed]",
      "text/plain": [
       "<Figure size 576x360 with 2 Axes>"
      ]
     },
     "metadata": {
      "needs_background": "light"
     },
     "output_type": "display_data"
    }
   ],
   "source": [
    "#plotting a confusion matrix\n",
    "cm = confusion_matrix(y_test,pred_test)\n",
    "plt.figure(figsize = (8,5))\n",
    "sns.heatmap(cm,annot = True)\n",
    "plt.show()"
   ]
  },
  {
   "cell_type": "code",
   "execution_count": null,
   "id": "90b08a3d",
   "metadata": {},
   "outputs": [],
   "source": []
  }
 ],
 "metadata": {
  "kernelspec": {
   "display_name": "Python 3",
   "language": "python",
   "name": "python3"
  },
  "language_info": {
   "codemirror_mode": {
    "name": "ipython",
    "version": 3
   },
   "file_extension": ".py",
   "mimetype": "text/x-python",
   "name": "python",
   "nbconvert_exporter": "python",
   "pygments_lexer": "ipython3",
   "version": "3.8.8"
  }
 },
 "nbformat": 4,
 "nbformat_minor": 5
}
